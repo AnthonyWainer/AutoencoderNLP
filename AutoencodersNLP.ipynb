{
  "nbformat": 4,
  "nbformat_minor": 0,
  "metadata": {
    "kernelspec": {
      "display_name": "Python 3",
      "language": "python",
      "name": "python3"
    },
    "language_info": {
      "codemirror_mode": {
        "name": "ipython",
        "version": 3
      },
      "file_extension": ".py",
      "mimetype": "text/x-python",
      "name": "python",
      "nbconvert_exporter": "python",
      "pygments_lexer": "ipython3",
      "version": "3.8.5"
    },
    "colab": {
      "name": "AutoencodersNLP.ipynb",
      "provenance": [],
      "collapsed_sections": [
        "aQJE-yyHF-XU"
      ],
      "toc_visible": true
    },
    "accelerator": "GPU"
  },
  "cells": [
    {
      "cell_type": "markdown",
      "metadata": {
        "id": "YeO3Yp4xUUuP"
      },
      "source": [
        "# **Autoencoder + BERT + K-Means**\n",
        "\n",
        "**Token Embeddings**: Se agrega un token **[CLS]** a los tokens de palabra de entrada al comienzo de la primera oración y un token **[SEP]** al final de cada oración. <br>\n",
        "\n",
        "**Segment Embeddings**: Se agrega un marcador que indica la oración A o la oración B a cada ficha. Esto permite que el codificador distinga entre oraciones.\n",
        "\n",
        "**Position Embeddings**: Se agrega una incrustación posicional a cada token para indicar su posición en la oración.\n",
        "\n",
        "![alt text](https://editor.analyticsvidhya.com/uploads/46561inputrepresent.png \"Title\")"
      ]
    },
    {
      "cell_type": "markdown",
      "metadata": {
        "id": "cD1uSutoF-WZ"
      },
      "source": [
        "## Libraries\n"
      ]
    },
    {
      "cell_type": "code",
      "metadata": {
        "id": "rP1Fj9H4F-Wb",
        "colab": {
          "base_uri": "https://localhost:8080/"
        },
        "outputId": "fb330512-91b1-4045-8c5f-4f93b9427237"
      },
      "source": [
        "import matplotlib.pyplot as plt\n",
        "import seaborn as sns\n",
        "\n",
        "import pandas as pd\n",
        "import numpy as np\n",
        "import warnings\n",
        "\n",
        "from sklearn import svm\n",
        "from sklearn.cluster import KMeans\n",
        "from sklearn.model_selection import train_test_split\n",
        "from sklearn.utils import compute_class_weight\n",
        "from sklearn.utils.linear_assignment_ import linear_assignment\n",
        "from sklearn.metrics import confusion_matrix, accuracy_score, roc_curve,\\\n",
        " roc_auc_score, classification_report, normalized_mutual_info_score, \n",
        " adjusted_rand_score\n",
        "\n",
        "from tensorflow import int32\n",
        "from tensorflow.keras.utils import plot_model\n",
        "from tensorflow.keras import Input\n",
        "from tensorflow.keras.models import Model\n",
        "from tensorflow.keras.layers import Flatten, Dense, Dropout, Layer, InputSpec\n",
        "from tensorflow.keras.optimizers import Adam, SGD\n",
        "from tensorflow.keras.callbacks import ReduceLROnPlateau, EarlyStopping, \n",
        "ModelCheckpoint\n",
        "from tensorflow.keras import backend as K\n",
        "\n",
        "from mlxtend.plotting import plot_confusion_matrix\n",
        "\n",
        "warnings.filterwarnings(\"ignore\")\n",
        "%matplotlib inline"
      ],
      "execution_count": null,
      "outputs": [
        {
          "output_type": "stream",
          "text": [
            "/usr/local/lib/python3.7/dist-packages/sklearn/utils/linear_assignment_.py:22: FutureWarning: The linear_assignment_ module is deprecated in 0.21 and will be removed from 0.23. Use scipy.optimize.linear_sum_assignment instead.\n",
            "  FutureWarning)\n"
          ],
          "name": "stderr"
        }
      ]
    },
    {
      "cell_type": "code",
      "metadata": {
        "colab": {
          "base_uri": "https://localhost:8080/"
        },
        "id": "MTtNTTW3wqzL",
        "outputId": "5dd213a7-8984-4e2d-9dee-41c9b50f0c20"
      },
      "source": [
        "!wget --quiet https://raw.githubusercontent.com/AnthonyWainer/AutoencoderNLP/master/utils/cleaner.py\n",
        "\n",
        "!pip install transformers"
      ],
      "execution_count": null,
      "outputs": [
        {
          "output_type": "stream",
          "text": [
            "Requirement already satisfied: transformers in /usr/local/lib/python3.7/dist-packages (4.8.2)\n",
            "Requirement already satisfied: huggingface-hub==0.0.12 in /usr/local/lib/python3.7/dist-packages (from transformers) (0.0.12)\n",
            "Requirement already satisfied: numpy>=1.17 in /usr/local/lib/python3.7/dist-packages (from transformers) (1.19.5)\n",
            "Requirement already satisfied: sacremoses in /usr/local/lib/python3.7/dist-packages (from transformers) (0.0.45)\n",
            "Requirement already satisfied: tokenizers<0.11,>=0.10.1 in /usr/local/lib/python3.7/dist-packages (from transformers) (0.10.3)\n",
            "Requirement already satisfied: pyyaml in /usr/local/lib/python3.7/dist-packages (from transformers) (3.13)\n",
            "Requirement already satisfied: packaging in /usr/local/lib/python3.7/dist-packages (from transformers) (20.9)\n",
            "Requirement already satisfied: importlib-metadata; python_version < \"3.8\" in /usr/local/lib/python3.7/dist-packages (from transformers) (4.5.0)\n",
            "Requirement already satisfied: requests in /usr/local/lib/python3.7/dist-packages (from transformers) (2.23.0)\n",
            "Requirement already satisfied: regex!=2019.12.17 in /usr/local/lib/python3.7/dist-packages (from transformers) (2019.12.20)\n",
            "Requirement already satisfied: filelock in /usr/local/lib/python3.7/dist-packages (from transformers) (3.0.12)\n",
            "Requirement already satisfied: tqdm>=4.27 in /usr/local/lib/python3.7/dist-packages (from transformers) (4.41.1)\n",
            "Requirement already satisfied: typing-extensions in /usr/local/lib/python3.7/dist-packages (from huggingface-hub==0.0.12->transformers) (3.7.4.3)\n",
            "Requirement already satisfied: joblib in /usr/local/lib/python3.7/dist-packages (from sacremoses->transformers) (1.0.1)\n",
            "Requirement already satisfied: click in /usr/local/lib/python3.7/dist-packages (from sacremoses->transformers) (7.1.2)\n",
            "Requirement already satisfied: six in /usr/local/lib/python3.7/dist-packages (from sacremoses->transformers) (1.15.0)\n",
            "Requirement already satisfied: pyparsing>=2.0.2 in /usr/local/lib/python3.7/dist-packages (from packaging->transformers) (2.4.7)\n",
            "Requirement already satisfied: zipp>=0.5 in /usr/local/lib/python3.7/dist-packages (from importlib-metadata; python_version < \"3.8\"->transformers) (3.4.1)\n",
            "Requirement already satisfied: urllib3!=1.25.0,!=1.25.1,<1.26,>=1.21.1 in /usr/local/lib/python3.7/dist-packages (from requests->transformers) (1.24.3)\n",
            "Requirement already satisfied: idna<3,>=2.5 in /usr/local/lib/python3.7/dist-packages (from requests->transformers) (2.10)\n",
            "Requirement already satisfied: certifi>=2017.4.17 in /usr/local/lib/python3.7/dist-packages (from requests->transformers) (2021.5.30)\n",
            "Requirement already satisfied: chardet<4,>=3.0.2 in /usr/local/lib/python3.7/dist-packages (from requests->transformers) (3.0.4)\n"
          ],
          "name": "stdout"
        }
      ]
    },
    {
      "cell_type": "code",
      "metadata": {
        "id": "JAkIM4m2wuFT",
        "colab": {
          "base_uri": "https://localhost:8080/"
        },
        "outputId": "93b8bb47-718e-452d-da73-2f134964695f"
      },
      "source": [
        "from cleaner import processing_words\n",
        "from transformers import TFBertForMaskedLM, BertTokenizer, TFBertModel\n",
        "import tensorflow as tf"
      ],
      "execution_count": null,
      "outputs": [
        {
          "output_type": "stream",
          "text": [
            "[nltk_data] Downloading package punkt to /root/nltk_data...\n",
            "[nltk_data]   Package punkt is already up-to-date!\n",
            "[nltk_data] Downloading package stopwords to /root/nltk_data...\n",
            "[nltk_data]   Package stopwords is already up-to-date!\n",
            "[nltk_data] Downloading package wordnet to /root/nltk_data...\n",
            "[nltk_data]   Package wordnet is already up-to-date!\n"
          ],
          "name": "stdout"
        }
      ]
    },
    {
      "cell_type": "markdown",
      "metadata": {
        "id": "c43rjgHhF-Wf"
      },
      "source": [
        "## 1. Loading Data"
      ]
    },
    {
      "cell_type": "code",
      "metadata": {
        "colab": {
          "base_uri": "https://localhost:8080/",
          "height": 238
        },
        "id": "QTs0Fkdl4nKj",
        "outputId": "a11902ca-0c39-4c10-f96c-abe8fbfe8ef5"
      },
      "source": [
        "dataset = pd.read_excel('https://github.com/AnthonyWainer/AutoencoderNLP/blob/master/dataset/dataset_valoration.xlsx?raw=true') \n",
        "\n",
        "display(dataset.sort_index().head(5))\n",
        "print('\\n Hay {} observaciones con {} características'.format(*dataset.shape))"
      ],
      "execution_count": null,
      "outputs": [
        {
          "output_type": "display_data",
          "data": {
            "text/html": [
              "<div>\n",
              "<style scoped>\n",
              "    .dataframe tbody tr th:only-of-type {\n",
              "        vertical-align: middle;\n",
              "    }\n",
              "\n",
              "    .dataframe tbody tr th {\n",
              "        vertical-align: top;\n",
              "    }\n",
              "\n",
              "    .dataframe thead th {\n",
              "        text-align: right;\n",
              "    }\n",
              "</style>\n",
              "<table border=\"1\" class=\"dataframe\">\n",
              "  <thead>\n",
              "    <tr style=\"text-align: right;\">\n",
              "      <th></th>\n",
              "      <th>valoration</th>\n",
              "      <th>comment</th>\n",
              "    </tr>\n",
              "  </thead>\n",
              "  <tbody>\n",
              "    <tr>\n",
              "      <th>0</th>\n",
              "      <td>1</td>\n",
              "      <td>totalmente satisfecho x q resolvieron mi  cons...</td>\n",
              "    </tr>\n",
              "    <tr>\n",
              "      <th>1</th>\n",
              "      <td>1</td>\n",
              "      <td>la atencion fue rapida y clara</td>\n",
              "    </tr>\n",
              "    <tr>\n",
              "      <th>2</th>\n",
              "      <td>1</td>\n",
              "      <td>me atendieron bien</td>\n",
              "    </tr>\n",
              "    <tr>\n",
              "      <th>3</th>\n",
              "      <td>1</td>\n",
              "      <td>fue muy rapido la atencion</td>\n",
              "    </tr>\n",
              "    <tr>\n",
              "      <th>4</th>\n",
              "      <td>1</td>\n",
              "      <td>por que me atendieron muy amablemente con buen...</td>\n",
              "    </tr>\n",
              "  </tbody>\n",
              "</table>\n",
              "</div>"
            ],
            "text/plain": [
              "   valoration                                            comment\n",
              "0           1  totalmente satisfecho x q resolvieron mi  cons...\n",
              "1           1                     la atencion fue rapida y clara\n",
              "2           1                                 me atendieron bien\n",
              "3           1                         fue muy rapido la atencion\n",
              "4           1  por que me atendieron muy amablemente con buen..."
            ]
          },
          "metadata": {
            "tags": []
          }
        },
        {
          "output_type": "stream",
          "text": [
            "\n",
            " Hay 9223 observaciones con 2 características\n"
          ],
          "name": "stdout"
        }
      ]
    },
    {
      "cell_type": "code",
      "metadata": {
        "colab": {
          "base_uri": "https://localhost:8080/",
          "height": 451
        },
        "id": "2z0kHFHeWZQb",
        "outputId": "a73ecc78-d38f-49cb-c97c-d2c1d9681bb4"
      },
      "source": [
        "fig = plt.figure(figsize=(10,6))\n",
        "sns.histplot(data=dataset.valoration, kde=True, multiple=\"stack\")\n",
        "sns.set(color_codes=True)\n",
        "fig.legend(labels=['Positivos','Negativos'])\n",
        "plt.title(\"Histograma de las variables\")"
      ],
      "execution_count": null,
      "outputs": [
        {
          "output_type": "execute_result",
          "data": {
            "text/plain": [
              "Text(0.5, 1.0, 'Histograma de las variables')"
            ]
          },
          "metadata": {
            "tags": []
          },
          "execution_count": 5
        },
        {
          "output_type": "display_data",
          "data": {
            "image/png": "[encoded data removed]",
            "text/plain": [
              "<Figure size 720x432 with 1 Axes>"
            ]
          },
          "metadata": {
            "tags": [],
            "needs_background": "light"
          }
        }
      ]
    },
    {
      "cell_type": "code",
      "metadata": {
        "colab": {
          "base_uri": "https://localhost:8080/"
        },
        "id": "4NlEsqzqWwcm",
        "outputId": "8e5b1ca8-04b9-4bdd-e09f-a4f965e68cae"
      },
      "source": [
        "class_weight = compute_class_weight('balanced', np.unique(dataset.valoration), dataset.valoration)\n",
        "\n",
        "class_weight = dict(enumerate(class_weight))\n",
        "\n",
        "class_weight"
      ],
      "execution_count": null,
      "outputs": [
        {
          "output_type": "execute_result",
          "data": {
            "text/plain": [
              "{0: 1.7547564687975648, 1: 0.6992418498862775}"
            ]
          },
          "metadata": {
            "tags": []
          },
          "execution_count": 6
        }
      ]
    },
    {
      "cell_type": "markdown",
      "metadata": {
        "id": "1MVAD0ReF-XE"
      },
      "source": [
        "## 2. Cleaning Data"
      ]
    },
    {
      "cell_type": "code",
      "metadata": {
        "id": "ZX6NoRQ1F-XI",
        "colab": {
          "base_uri": "https://localhost:8080/",
          "height": 238
        },
        "outputId": "6e1d2893-6b3e-4dae-f7e8-a3142603dbff"
      },
      "source": [
        "dataset.loc[:, ('clean_comment')] = dataset.comment.apply(processing_words)\n",
        "\n",
        "dataset = dataset.drop_duplicates(subset='clean_comment', keep=\"last\")\n",
        "\n",
        "dataset.sort_index(inplace=True)\n",
        "\n",
        "display(dataset.sort_index().head(5))\n",
        "print('\\n Hay {} observaciones con {} características'.format(*dataset.shape))"
      ],
      "execution_count": null,
      "outputs": [
        {
          "output_type": "display_data",
          "data": {
            "text/html": [
              "<div>\n",
              "<style scoped>\n",
              "    .dataframe tbody tr th:only-of-type {\n",
              "        vertical-align: middle;\n",
              "    }\n",
              "\n",
              "    .dataframe tbody tr th {\n",
              "        vertical-align: top;\n",
              "    }\n",
              "\n",
              "    .dataframe thead th {\n",
              "        text-align: right;\n",
              "    }\n",
              "</style>\n",
              "<table border=\"1\" class=\"dataframe\">\n",
              "  <thead>\n",
              "    <tr style=\"text-align: right;\">\n",
              "      <th></th>\n",
              "      <th>valoration</th>\n",
              "      <th>comment</th>\n",
              "      <th>clean_comment</th>\n",
              "    </tr>\n",
              "  </thead>\n",
              "  <tbody>\n",
              "    <tr>\n",
              "      <th>0</th>\n",
              "      <td>1</td>\n",
              "      <td>totalmente satisfecho x q resolvieron mi  cons...</td>\n",
              "      <td>totalmente satisfecho resolvieron consulta ate...</td>\n",
              "    </tr>\n",
              "    <tr>\n",
              "      <th>4</th>\n",
              "      <td>1</td>\n",
              "      <td>por que me atendieron muy amablemente con buen...</td>\n",
              "      <td>atendieron amablemente buena actitud plataform...</td>\n",
              "    </tr>\n",
              "    <tr>\n",
              "      <th>5</th>\n",
              "      <td>1</td>\n",
              "      <td>me atendieron bien con mucha atencion</td>\n",
              "      <td>atendieron bien mucha atencion</td>\n",
              "    </tr>\n",
              "    <tr>\n",
              "      <th>6</th>\n",
              "      <td>1</td>\n",
              "      <td>la atencion de las señoritas de la entrada fue...</td>\n",
              "      <td>atencion señoritas entrada buena momento supie...</td>\n",
              "    </tr>\n",
              "    <tr>\n",
              "      <th>7</th>\n",
              "      <td>1</td>\n",
              "      <td>porque hay varios cajerosas es una agencia rel...</td>\n",
              "      <td>varios cajerosas agencia relativamente grande</td>\n",
              "    </tr>\n",
              "  </tbody>\n",
              "</table>\n",
              "</div>"
            ],
            "text/plain": [
              "   valoration  ...                                      clean_comment\n",
              "0           1  ...  totalmente satisfecho resolvieron consulta ate...\n",
              "4           1  ...  atendieron amablemente buena actitud plataform...\n",
              "5           1  ...                     atendieron bien mucha atencion\n",
              "6           1  ...  atencion señoritas entrada buena momento supie...\n",
              "7           1  ...      varios cajerosas agencia relativamente grande\n",
              "\n",
              "[5 rows x 3 columns]"
            ]
          },
          "metadata": {
            "tags": []
          }
        },
        {
          "output_type": "stream",
          "text": [
            "\n",
            " Hay 7391 observaciones con 3 características\n"
          ],
          "name": "stdout"
        }
      ]
    },
    {
      "cell_type": "markdown",
      "metadata": {
        "id": "aQJE-yyHF-XU"
      },
      "source": [
        "## 3. TF - TF-idf"
      ]
    },
    {
      "cell_type": "code",
      "metadata": {
        "id": "ZtAKXaqCF-XU"
      },
      "source": [
        "from sklearn.feature_extraction.text import TfidfVectorizer"
      ],
      "execution_count": null,
      "outputs": []
    },
    {
      "cell_type": "code",
      "metadata": {
        "id": "mu_kLJO5F-XX"
      },
      "source": [
        "data = dataset['clean_comment'].values.tolist()"
      ],
      "execution_count": null,
      "outputs": []
    },
    {
      "cell_type": "code",
      "metadata": {
        "id": "wQQHb_NRF-Xb"
      },
      "source": [
        "vectorizer = TfidfVectorizer(max_features=100)\n",
        "FV = vectorizer.fit_transform(data)\n",
        "FV = FV.toarray()"
      ],
      "execution_count": null,
      "outputs": []
    },
    {
      "cell_type": "code",
      "metadata": {
        "id": "ZcLTkZhbF-Xg",
        "colab": {
          "base_uri": "https://localhost:8080/"
        },
        "outputId": "1fd19535-baf9-4f88-9dd1-94c118791ce1"
      },
      "source": [
        "vectorizer.get_feature_names()"
      ],
      "execution_count": null,
      "outputs": [
        {
          "output_type": "execute_result",
          "data": {
            "text/plain": [
              "['ademas',\n",
              " 'agencia',\n",
              " 'amabilidad',\n",
              " 'amable',\n",
              " 'amables',\n",
              " 'atencion',\n",
              " 'atender',\n",
              " 'atendido',\n",
              " 'atendiendo',\n",
              " 'atendieron',\n",
              " 'atendio',\n",
              " 'atienden',\n",
              " 'banca',\n",
              " 'banco',\n",
              " 'bien',\n",
              " 'brindaron',\n",
              " 'buen',\n",
              " 'buena',\n",
              " 'cajero',\n",
              " 'cajeros',\n",
              " 'cliente',\n",
              " 'clientes',\n",
              " 'cola',\n",
              " 'colas',\n",
              " 'cordial',\n",
              " 'credito',\n",
              " 'cuenta',\n",
              " 'demasiado',\n",
              " 'demora',\n",
              " 'deposito',\n",
              " 'despues',\n",
              " 'dieron',\n",
              " 'dijeron',\n",
              " 'dijo',\n",
              " 'dinero',\n",
              " 'dudas',\n",
              " 'eficiente',\n",
              " 'espera',\n",
              " 'esperando',\n",
              " 'esperar',\n",
              " 'excelente',\n",
              " 'exclusiva',\n",
              " 'fila',\n",
              " 'forma',\n",
              " 'gente',\n",
              " 'gracias',\n",
              " 'habia',\n",
              " 'habian',\n",
              " 'hace',\n",
              " 'hacer',\n",
              " 'hice',\n",
              " 'hicieron',\n",
              " 'hora',\n",
              " 'informacion',\n",
              " 'luego',\n",
              " 'mala',\n",
              " 'manera',\n",
              " 'mejor',\n",
              " 'minutos',\n",
              " 'momento',\n",
              " 'mucha',\n",
              " 'necesitaba',\n",
              " 'operacion',\n",
              " 'operaciones',\n",
              " 'pagar',\n",
              " 'pago',\n",
              " 'parte',\n",
              " 'persona',\n",
              " 'personal',\n",
              " 'personas',\n",
              " 'pesar',\n",
              " 'plataforma',\n",
              " 'preferencial',\n",
              " 'prestamo',\n",
              " 'problema',\n",
              " 'pude',\n",
              " 'rapida',\n",
              " 'rapidez',\n",
              " 'rapido',\n",
              " 'realizar',\n",
              " 'respuesta',\n",
              " 'servicio',\n",
              " 'señorita',\n",
              " 'siempre',\n",
              " 'sistema',\n",
              " 'soles',\n",
              " 'solo',\n",
              " 'solucion',\n",
              " 'srta',\n",
              " 'tambien',\n",
              " 'tarjeta',\n",
              " 'telefono',\n",
              " 'tener',\n",
              " 'tenia',\n",
              " 'tiempo',\n",
              " 'todas',\n",
              " 'tramite',\n",
              " 'trato',\n",
              " 'ventanilla',\n",
              " 'ventanillas']"
            ]
          },
          "metadata": {
            "tags": []
          },
          "execution_count": 11
        }
      ]
    },
    {
      "cell_type": "code",
      "metadata": {
        "id": "8qj2IN2PF-Xj",
        "colab": {
          "base_uri": "https://localhost:8080/",
          "height": 204
        },
        "outputId": "b7ba2dbb-cb21-4825-b6cf-ab1579140e29"
      },
      "source": [
        "dataset.head()"
      ],
      "execution_count": null,
      "outputs": [
        {
          "output_type": "execute_result",
          "data": {
            "text/html": [
              "<div>\n",
              "<style scoped>\n",
              "    .dataframe tbody tr th:only-of-type {\n",
              "        vertical-align: middle;\n",
              "    }\n",
              "\n",
              "    .dataframe tbody tr th {\n",
              "        vertical-align: top;\n",
              "    }\n",
              "\n",
              "    .dataframe thead th {\n",
              "        text-align: right;\n",
              "    }\n",
              "</style>\n",
              "<table border=\"1\" class=\"dataframe\">\n",
              "  <thead>\n",
              "    <tr style=\"text-align: right;\">\n",
              "      <th></th>\n",
              "      <th>valoration</th>\n",
              "      <th>comment</th>\n",
              "      <th>clean_comment</th>\n",
              "    </tr>\n",
              "  </thead>\n",
              "  <tbody>\n",
              "    <tr>\n",
              "      <th>0</th>\n",
              "      <td>1</td>\n",
              "      <td>totalmente satisfecho x q resolvieron mi  cons...</td>\n",
              "      <td>totalmente satisfecho resolvieron consulta ate...</td>\n",
              "    </tr>\n",
              "    <tr>\n",
              "      <th>4</th>\n",
              "      <td>1</td>\n",
              "      <td>por que me atendieron muy amablemente con buen...</td>\n",
              "      <td>atendieron amablemente buena actitud plataform...</td>\n",
              "    </tr>\n",
              "    <tr>\n",
              "      <th>5</th>\n",
              "      <td>1</td>\n",
              "      <td>me atendieron bien con mucha atencion</td>\n",
              "      <td>atendieron bien mucha atencion</td>\n",
              "    </tr>\n",
              "    <tr>\n",
              "      <th>6</th>\n",
              "      <td>1</td>\n",
              "      <td>la atencion de las señoritas de la entrada fue...</td>\n",
              "      <td>atencion señoritas entrada buena momento supie...</td>\n",
              "    </tr>\n",
              "    <tr>\n",
              "      <th>7</th>\n",
              "      <td>1</td>\n",
              "      <td>porque hay varios cajerosas es una agencia rel...</td>\n",
              "      <td>varios cajerosas agencia relativamente grande</td>\n",
              "    </tr>\n",
              "  </tbody>\n",
              "</table>\n",
              "</div>"
            ],
            "text/plain": [
              "   valoration  ...                                      clean_comment\n",
              "0           1  ...  totalmente satisfecho resolvieron consulta ate...\n",
              "4           1  ...  atendieron amablemente buena actitud plataform...\n",
              "5           1  ...                     atendieron bien mucha atencion\n",
              "6           1  ...  atencion señoritas entrada buena momento supie...\n",
              "7           1  ...      varios cajerosas agencia relativamente grande\n",
              "\n",
              "[5 rows x 3 columns]"
            ]
          },
          "metadata": {
            "tags": []
          },
          "execution_count": 12
        }
      ]
    },
    {
      "cell_type": "code",
      "metadata": {
        "id": "e774AE9bF-Xm",
        "colab": {
          "base_uri": "https://localhost:8080/",
          "height": 204
        },
        "outputId": "af100673-13b5-46b1-e638-762e79df306f"
      },
      "source": [
        "dataset['FV'] = FV.tolist()\n",
        "dataset.head()"
      ],
      "execution_count": null,
      "outputs": [
        {
          "output_type": "execute_result",
          "data": {
            "text/html": [
              "<div>\n",
              "<style scoped>\n",
              "    .dataframe tbody tr th:only-of-type {\n",
              "        vertical-align: middle;\n",
              "    }\n",
              "\n",
              "    .dataframe tbody tr th {\n",
              "        vertical-align: top;\n",
              "    }\n",
              "\n",
              "    .dataframe thead th {\n",
              "        text-align: right;\n",
              "    }\n",
              "</style>\n",
              "<table border=\"1\" class=\"dataframe\">\n",
              "  <thead>\n",
              "    <tr style=\"text-align: right;\">\n",
              "      <th></th>\n",
              "      <th>valoration</th>\n",
              "      <th>comment</th>\n",
              "      <th>clean_comment</th>\n",
              "      <th>FV</th>\n",
              "    </tr>\n",
              "  </thead>\n",
              "  <tbody>\n",
              "    <tr>\n",
              "      <th>0</th>\n",
              "      <td>1</td>\n",
              "      <td>totalmente satisfecho x q resolvieron mi  cons...</td>\n",
              "      <td>totalmente satisfecho resolvieron consulta ate...</td>\n",
              "      <td>[0.0, 0.0, 0.0, 0.0, 0.0, 0.34606015214965685,...</td>\n",
              "    </tr>\n",
              "    <tr>\n",
              "      <th>4</th>\n",
              "      <td>1</td>\n",
              "      <td>por que me atendieron muy amablemente con buen...</td>\n",
              "      <td>atendieron amablemente buena actitud plataform...</td>\n",
              "      <td>[0.0, 0.0, 0.0, 0.0, 0.0, 0.0, 0.0, 0.0, 0.0, ...</td>\n",
              "    </tr>\n",
              "    <tr>\n",
              "      <th>5</th>\n",
              "      <td>1</td>\n",
              "      <td>me atendieron bien con mucha atencion</td>\n",
              "      <td>atendieron bien mucha atencion</td>\n",
              "      <td>[0.0, 0.0, 0.0, 0.0, 0.0, 0.2828338126782578, ...</td>\n",
              "    </tr>\n",
              "    <tr>\n",
              "      <th>6</th>\n",
              "      <td>1</td>\n",
              "      <td>la atencion de las señoritas de la entrada fue...</td>\n",
              "      <td>atencion señoritas entrada buena momento supie...</td>\n",
              "      <td>[0.0, 0.0, 0.0, 0.0, 0.0, 0.3176066083913882, ...</td>\n",
              "    </tr>\n",
              "    <tr>\n",
              "      <th>7</th>\n",
              "      <td>1</td>\n",
              "      <td>porque hay varios cajerosas es una agencia rel...</td>\n",
              "      <td>varios cajerosas agencia relativamente grande</td>\n",
              "      <td>[0.0, 1.0, 0.0, 0.0, 0.0, 0.0, 0.0, 0.0, 0.0, ...</td>\n",
              "    </tr>\n",
              "  </tbody>\n",
              "</table>\n",
              "</div>"
            ],
            "text/plain": [
              "   valoration  ...                                                 FV\n",
              "0           1  ...  [0.0, 0.0, 0.0, 0.0, 0.0, 0.34606015214965685,...\n",
              "4           1  ...  [0.0, 0.0, 0.0, 0.0, 0.0, 0.0, 0.0, 0.0, 0.0, ...\n",
              "5           1  ...  [0.0, 0.0, 0.0, 0.0, 0.0, 0.2828338126782578, ...\n",
              "6           1  ...  [0.0, 0.0, 0.0, 0.0, 0.0, 0.3176066083913882, ...\n",
              "7           1  ...  [0.0, 1.0, 0.0, 0.0, 0.0, 0.0, 0.0, 0.0, 0.0, ...\n",
              "\n",
              "[5 rows x 4 columns]"
            ]
          },
          "metadata": {
            "tags": []
          },
          "execution_count": 13
        }
      ]
    },
    {
      "cell_type": "code",
      "metadata": {
        "colab": {
          "base_uri": "https://localhost:8080/",
          "height": 35
        },
        "id": "Ivnd677boswX",
        "outputId": "80957228-74b5-4da2-892b-caddb8362927"
      },
      "source": [
        "dataset[dataset.valoration == 1].comment[0]"
      ],
      "execution_count": null,
      "outputs": [
        {
          "output_type": "execute_result",
          "data": {
            "application/vnd.google.colaboratory.intrinsic+json": {
              "type": "string"
            },
            "text/plain": [
              "'totalmente satisfecho x q resolvieron mi  consulta y x q la atencion fue muy buena y mis dudas fueron respondidas'"
            ]
          },
          "metadata": {
            "tags": []
          },
          "execution_count": 52
        }
      ]
    },
    {
      "cell_type": "markdown",
      "metadata": {
        "id": "9ZUFlN9tw_w-"
      },
      "source": [
        "## 4. BERT - BETO Model"
      ]
    },
    {
      "cell_type": "code",
      "metadata": {
        "colab": {
          "base_uri": "https://localhost:8080/"
        },
        "id": "nOt5Kd_YmbFz",
        "outputId": "3a40b7ab-66f2-4ff3-e7c4-e9960597103e"
      },
      "source": [
        "tokenizer = BertTokenizer.from_pretrained(\"dccuchile/bert-base-spanish-wwm-uncased\", do_lower_case=False)\n",
        "beto_layer = TFBertForMaskedLM.from_pretrained(\"dccuchile/bert-base-spanish-wwm-uncased\", from_pt=True)"
      ],
      "execution_count": null,
      "outputs": [
        {
          "output_type": "stream",
          "text": [
            "Some weights of the PyTorch model were not used when initializing the TF 2.0 model TFBertForMaskedLM: ['cls.predictions.decoder.bias', 'bert.embeddings.position_ids']\n",
            "- This IS expected if you are initializing TFBertForMaskedLM from a PyTorch model trained on another task or with another architecture (e.g. initializing a TFBertForSequenceClassification model from a BertForPreTraining model).\n",
            "- This IS NOT expected if you are initializing TFBertForMaskedLM from a PyTorch model that you expect to be exactly identical (e.g. initializing a TFBertForSequenceClassification model from a BertForSequenceClassification model).\n",
            "All the weights of TFBertForMaskedLM were initialized from the PyTorch model.\n",
            "If your task is similar to the task the model of the checkpoint was trained on, you can already use TFBertForMaskedLM for predictions without further training.\n"
          ],
          "name": "stderr"
        }
      ]
    },
    {
      "cell_type": "code",
      "metadata": {
        "id": "4NAEPhmRq9Je"
      },
      "source": [
        "max_len = 256 # max sequence length"
      ],
      "execution_count": null,
      "outputs": []
    },
    {
      "cell_type": "code",
      "metadata": {
        "id": "qnC-KSEyrceA"
      },
      "source": [
        "def bert_encode(texts, tokenizer, max_len=512):\n",
        "    all_tokens = []\n",
        "    all_masks = []\n",
        "    all_segments = []\n",
        "    \n",
        "    for text in texts:\n",
        "        text = tokenizer.tokenize(text)\n",
        "            \n",
        "        text = text[:max_len-2]\n",
        "        input_sequence = [\"[CLS]\"] + text + [\"[SEP]\"]\n",
        "        pad_len = max_len - len(input_sequence)\n",
        "        \n",
        "        tokens = tokenizer.convert_tokens_to_ids(input_sequence) + [0] * pad_len\n",
        "        pad_masks = [1] * len(input_sequence) + [0] * pad_len\n",
        "        segment_ids = [0] * max_len\n",
        "        \n",
        "        all_tokens.append(tokens)\n",
        "        all_masks.append(pad_masks)\n",
        "        all_segments.append(segment_ids)\n",
        "    \n",
        "    return np.array(all_tokens), np.array(all_masks), np.array(all_segments)"
      ],
      "execution_count": null,
      "outputs": []
    },
    {
      "cell_type": "markdown",
      "metadata": {
        "id": "4FRahpENF-Xp"
      },
      "source": [
        "### 4.1. DATA"
      ]
    },
    {
      "cell_type": "code",
      "metadata": {
        "id": "QgikLnISF-Xt"
      },
      "source": [
        "X_ = dataset.clean_comment\n",
        "Y_ = tf.keras.utils.to_categorical(np.array(dataset.valoration.to_list()), num_classes=2)"
      ],
      "execution_count": null,
      "outputs": []
    },
    {
      "cell_type": "code",
      "metadata": {
        "id": "t7RmMCc5qoBH"
      },
      "source": [
        "# To BERT vector\n",
        "X = bert_encode(X_.values, tokenizer, max_len = max_len)\n",
        "Y = Y_"
      ],
      "execution_count": null,
      "outputs": []
    },
    {
      "cell_type": "markdown",
      "metadata": {
        "id": "i-1-thxSjNmA"
      },
      "source": [
        "### 4.2. Testing BERT - BETO Model"
      ]
    },
    {
      "cell_type": "code",
      "metadata": {
        "id": "v4Hy7HERnvvb"
      },
      "source": [
        "def build_model(bert_layer, max_len=512):\n",
        "    input_word_ids = Input(shape=(max_len,), dtype=int32, name=\"input_word_ids\")\n",
        "    input_mask = Input(shape=(max_len,), dtype=int32, name=\"input_mask\")\n",
        "    segment_ids = Input(shape=(max_len,), dtype=int32, name=\"segment_ids\")\n",
        "\n",
        "    sequence_output = bert_layer([input_word_ids, input_mask, segment_ids])\n",
        "    clf_output = sequence_output[\"pooler_output\"]\n",
        "    net = Dense(256, activation='relu')(clf_output)\n",
        "    net = Dense(64, activation='sigmoid')(net)\n",
        "    net = Dropout(0.2)(net)\n",
        "    net = Dense(32, activation='sigmoid')(net)\n",
        "    net = Dropout(0.2)(net)\n",
        "    out = Dense(2, activation='softmax')(net)\n",
        "    \n",
        "    model = Model(inputs=[input_word_ids, input_mask, segment_ids], outputs=out)\n",
        "    model.compile(Adam(lr=1e-5), loss='categorical_crossentropy', metrics=['accuracy'])\n",
        "    \n",
        "    return model  "
      ],
      "execution_count": null,
      "outputs": []
    },
    {
      "cell_type": "code",
      "metadata": {
        "colab": {
          "base_uri": "https://localhost:8080/"
        },
        "id": "fcp1KjYFuW2h",
        "outputId": "7e44599e-feac-461e-d2d7-dd87e566ba70"
      },
      "source": [
        "bert_layer = TFBertModel.from_pretrained(\n",
        "           \"dccuchile/bert-base-spanish-wwm-uncased\", trainable=True, name=f\"beto_module\"\n",
        ")\n",
        "\n",
        "model = build_model(bert_layer, max_len=max_len)\n",
        "model.summary()"
      ],
      "execution_count": null,
      "outputs": [
        {
          "output_type": "stream",
          "text": [
            "Some layers from the model checkpoint at dccuchile/bert-base-spanish-wwm-uncased were not used when initializing TFBertModel: ['mlm___cls']\n",
            "- This IS expected if you are initializing TFBertModel from the checkpoint of a model trained on another task or with another architecture (e.g. initializing a BertForSequenceClassification model from a BertForPreTraining model).\n",
            "- This IS NOT expected if you are initializing TFBertModel from the checkpoint of a model that you expect to be exactly identical (initializing a BertForSequenceClassification model from a BertForSequenceClassification model).\n",
            "Some layers of TFBertModel were not initialized from the model checkpoint at dccuchile/bert-base-spanish-wwm-uncased and are newly initialized: ['bert/pooler/dense/bias:0', 'bert/pooler/dense/kernel:0']\n",
            "You should probably TRAIN this model on a down-stream task to be able to use it for predictions and inference.\n"
          ],
          "name": "stderr"
        },
        {
          "output_type": "stream",
          "text": [
            "WARNING:tensorflow:The parameters `output_attentions`, `output_hidden_states` and `use_cache` cannot be updated when calling a model.They have to be set to True/False in the config object (i.e.: `config=XConfig.from_pretrained('name', output_attentions=True)`).\n",
            "WARNING:tensorflow:The parameter `return_dict` cannot be set in graph mode and will always be set to `True`.\n",
            "Model: \"model\"\n",
            "__________________________________________________________________________________________________\n",
            "Layer (type)                    Output Shape         Param #     Connected to                     \n",
            "==================================================================================================\n",
            "input_word_ids (InputLayer)     [(None, 256)]        0                                            \n",
            "__________________________________________________________________________________________________\n",
            "input_mask (InputLayer)         [(None, 256)]        0                                            \n",
            "__________________________________________________________________________________________________\n",
            "segment_ids (InputLayer)        [(None, 256)]        0                                            \n",
            "__________________________________________________________________________________________________\n",
            "beto_module (TFBertModel)       TFBaseModelOutputWit 109850880   input_word_ids[0][0]             \n",
            "                                                                 input_mask[0][0]                 \n",
            "                                                                 segment_ids[0][0]                \n",
            "__________________________________________________________________________________________________\n",
            "dense (Dense)                   (None, 256)          196864      beto_module[0][1]                \n",
            "__________________________________________________________________________________________________\n",
            "dense_1 (Dense)                 (None, 64)           16448       dense[0][0]                      \n",
            "__________________________________________________________________________________________________\n",
            "dropout_111 (Dropout)           (None, 64)           0           dense_1[0][0]                    \n",
            "__________________________________________________________________________________________________\n",
            "dense_2 (Dense)                 (None, 32)           2080        dropout_111[0][0]                \n",
            "__________________________________________________________________________________________________\n",
            "dropout_112 (Dropout)           (None, 32)           0           dense_2[0][0]                    \n",
            "__________________________________________________________________________________________________\n",
            "dense_3 (Dense)                 (None, 2)            66          dropout_112[0][0]                \n",
            "==================================================================================================\n",
            "Total params: 110,066,338\n",
            "Trainable params: 110,066,338\n",
            "Non-trainable params: 0\n",
            "__________________________________________________________________________________________________\n"
          ],
          "name": "stdout"
        }
      ]
    },
    {
      "cell_type": "code",
      "metadata": {
        "colab": {
          "base_uri": "https://localhost:8080/"
        },
        "id": "YZKW6bN-vNCD",
        "outputId": "cc4d35f1-92ea-4d51-d083-b1229ea31c64"
      },
      "source": [
        "history = model.fit(\n",
        "    X, Y,\n",
        "    epochs=3,\n",
        "    batch_size=32,\n",
        "    class_weight = class_weight,\n",
        "    verbose=1\n",
        ")"
      ],
      "execution_count": null,
      "outputs": [
        {
          "output_type": "stream",
          "text": [
            "Epoch 1/3\n",
            "WARNING:tensorflow:The parameters `output_attentions`, `output_hidden_states` and `use_cache` cannot be updated when calling a model.They have to be set to True/False in the config object (i.e.: `config=XConfig.from_pretrained('name', output_attentions=True)`).\n",
            "WARNING:tensorflow:The parameter `return_dict` cannot be set in graph mode and will always be set to `True`.\n",
            "WARNING:tensorflow:The parameters `output_attentions`, `output_hidden_states` and `use_cache` cannot be updated when calling a model.They have to be set to True/False in the config object (i.e.: `config=XConfig.from_pretrained('name', output_attentions=True)`).\n",
            "WARNING:tensorflow:The parameter `return_dict` cannot be set in graph mode and will always be set to `True`.\n",
            "231/231 [==============================] - 396s 2s/step - loss: 0.5321 - accuracy: 0.7828\n",
            "Epoch 2/3\n",
            "231/231 [==============================] - 379s 2s/step - loss: 0.4163 - accuracy: 0.8872\n",
            "Epoch 3/3\n",
            "231/231 [==============================] - 379s 2s/step - loss: 0.3644 - accuracy: 0.9138\n"
          ],
          "name": "stdout"
        }
      ]
    },
    {
      "cell_type": "code",
      "metadata": {
        "colab": {
          "base_uri": "https://localhost:8080/"
        },
        "id": "LOMxpYbKRCcz",
        "outputId": "9ff11d8f-eb15-4cc9-cd31-5a2c884d40b6"
      },
      "source": [
        "results = model.evaluate(X, Y)\n",
        "print(\"_\"*100)\n",
        "print(\"Test Loss and Accuracy\")\n",
        "print(\"results \", results)"
      ],
      "execution_count": null,
      "outputs": [
        {
          "output_type": "stream",
          "text": [
            "WARNING:tensorflow:The parameters `output_attentions`, `output_hidden_states` and `use_cache` cannot be updated when calling a model.They have to be set to True/False in the config object (i.e.: `config=XConfig.from_pretrained('name', output_attentions=True)`).\n",
            "WARNING:tensorflow:The parameter `return_dict` cannot be set in graph mode and will always be set to `True`.\n",
            "231/231 [==============================] - 136s 575ms/step - loss: 0.2940 - accuracy: 0.9463\n",
            "____________________________________________________________________________________________________\n",
            "Test Loss and Accuracy\n",
            "results  [0.29396307468414307, 0.9462860226631165]\n"
          ],
          "name": "stdout"
        }
      ]
    },
    {
      "cell_type": "code",
      "metadata": {
        "colab": {
          "base_uri": "https://localhost:8080/",
          "height": 142
        },
        "id": "di2n4JuBOXMd",
        "outputId": "f513a0c4-fc61-48a8-d67b-af78be16ee14"
      },
      "source": [
        "pd.DataFrame(history.history)"
      ],
      "execution_count": null,
      "outputs": [
        {
          "output_type": "execute_result",
          "data": {
            "text/html": [
              "<div>\n",
              "<style scoped>\n",
              "    .dataframe tbody tr th:only-of-type {\n",
              "        vertical-align: middle;\n",
              "    }\n",
              "\n",
              "    .dataframe tbody tr th {\n",
              "        vertical-align: top;\n",
              "    }\n",
              "\n",
              "    .dataframe thead th {\n",
              "        text-align: right;\n",
              "    }\n",
              "</style>\n",
              "<table border=\"1\" class=\"dataframe\">\n",
              "  <thead>\n",
              "    <tr style=\"text-align: right;\">\n",
              "      <th></th>\n",
              "      <th>loss</th>\n",
              "      <th>accuracy</th>\n",
              "    </tr>\n",
              "  </thead>\n",
              "  <tbody>\n",
              "    <tr>\n",
              "      <th>0</th>\n",
              "      <td>0.532050</td>\n",
              "      <td>0.782844</td>\n",
              "    </tr>\n",
              "    <tr>\n",
              "      <th>1</th>\n",
              "      <td>0.416322</td>\n",
              "      <td>0.887160</td>\n",
              "    </tr>\n",
              "    <tr>\n",
              "      <th>2</th>\n",
              "      <td>0.364379</td>\n",
              "      <td>0.913814</td>\n",
              "    </tr>\n",
              "  </tbody>\n",
              "</table>\n",
              "</div>"
            ],
            "text/plain": [
              "       loss  accuracy\n",
              "0  0.532050  0.782844\n",
              "1  0.416322  0.887160\n",
              "2  0.364379  0.913814"
            ]
          },
          "metadata": {
            "tags": []
          },
          "execution_count": 19
        }
      ]
    },
    {
      "cell_type": "code",
      "metadata": {
        "id": "4eE_wpcrfjlN"
      },
      "source": [
        "labels = {1: \"positivo\", 0: \"negativo\"}"
      ],
      "execution_count": null,
      "outputs": []
    },
    {
      "cell_type": "code",
      "metadata": {
        "colab": {
          "base_uri": "https://localhost:8080/"
        },
        "id": "oHtU-JG0djMo",
        "outputId": "88053330-a8bc-4d91-a764-1c18e871b0a4"
      },
      "source": [
        "text = dataset[dataset.valoration == 1].comment[0] #\"este servicio es muy bueno, lo recomiendo\" \n",
        "print(dataset[dataset.valoration == 1].comment[0])\n",
        "text = processing_words(text)\n",
        "\n",
        "text_bert = bert_encode([text], tokenizer, max_len = max_len)\n",
        "test = model.predict(text_bert, verbose=2)\n",
        "test.argmax(axis=1)[0], labels[test.argmax(axis=1)[0]]"
      ],
      "execution_count": null,
      "outputs": [
        {
          "output_type": "stream",
          "text": [
            "totalmente satisfecho x q resolvieron mi  consulta y x q la atencion fue muy buena y mis dudas fueron respondidas\n",
            "1/1 - 0s\n"
          ],
          "name": "stdout"
        },
        {
          "output_type": "execute_result",
          "data": {
            "text/plain": [
              "(1, 'positivo')"
            ]
          },
          "metadata": {
            "tags": []
          },
          "execution_count": 22
        }
      ]
    },
    {
      "cell_type": "code",
      "metadata": {
        "colab": {
          "base_uri": "https://localhost:8080/"
        },
        "id": "7Wr0xtjOnWLn",
        "outputId": "c9d4ed93-1705-4ab8-bf1a-3bdc92a5f087"
      },
      "source": [
        "text = dataset[dataset.valoration == 0].comment[9218]#\"este servicio es de baja calidad\" \n",
        "print(dataset[dataset.valoration == 0].comment[9218])\n",
        "\n",
        "text = processing_words(text)\n",
        "\n",
        "text_bert = bert_encode([text], tokenizer, max_len = max_len)\n",
        "test = model.predict(text_bert, verbose=2)\n",
        "test.argmax(axis=1)[0], labels[test.argmax(axis=1)[0]]"
      ],
      "execution_count": null,
      "outputs": [
        {
          "output_type": "stream",
          "text": [
            "demora en la atencion al cliente habian  ventanillas atendiendo  que contaba monedad la otra atendiendo a usuarios la otra a vip o algo asi y la otra a clientes\n",
            "1/1 - 0s\n"
          ],
          "name": "stdout"
        },
        {
          "output_type": "execute_result",
          "data": {
            "text/plain": [
              "(0, 'negativo')"
            ]
          },
          "metadata": {
            "tags": []
          },
          "execution_count": 23
        }
      ]
    },
    {
      "cell_type": "code",
      "metadata": {
        "colab": {
          "base_uri": "https://localhost:8080/"
        },
        "id": "Nb3l7CV4SQXV",
        "outputId": "ecef8e1e-6a2e-42b5-9b21-0228eab0b102"
      },
      "source": [
        "prediction = model.predict(X, verbose = 1)"
      ],
      "execution_count": null,
      "outputs": [
        {
          "output_type": "stream",
          "text": [
            "WARNING:tensorflow:The parameters `output_attentions`, `output_hidden_states` and `use_cache` cannot be updated when calling a model.They have to be set to True/False in the config object (i.e.: `config=XConfig.from_pretrained('name', output_attentions=True)`).\n",
            "WARNING:tensorflow:The parameter `return_dict` cannot be set in graph mode and will always be set to `True`.\n",
            "231/231 [==============================] - 134s 569ms/step\n"
          ],
          "name": "stdout"
        }
      ]
    },
    {
      "cell_type": "code",
      "metadata": {
        "colab": {
          "base_uri": "https://localhost:8080/",
          "height": 221
        },
        "id": "Qdl6Dk0NTSNQ",
        "outputId": "8e5d25c4-8590-45b0-b0a9-4ac7aab042d2"
      },
      "source": [
        "print(\"Accuracy\", accuracy_score(Y.argmax(axis=1), prediction.argmax(axis=1))*100)\n",
        "\n",
        "pd.DataFrame(classification_report(Y.argmax(axis=1), prediction.argmax(axis=1), output_dict=True)).transpose()"
      ],
      "execution_count": null,
      "outputs": [
        {
          "output_type": "stream",
          "text": [
            "Accuracy 94.62860235421459\n"
          ],
          "name": "stdout"
        },
        {
          "output_type": "execute_result",
          "data": {
            "text/html": [
              "<div>\n",
              "<style scoped>\n",
              "    .dataframe tbody tr th:only-of-type {\n",
              "        vertical-align: middle;\n",
              "    }\n",
              "\n",
              "    .dataframe tbody tr th {\n",
              "        vertical-align: top;\n",
              "    }\n",
              "\n",
              "    .dataframe thead th {\n",
              "        text-align: right;\n",
              "    }\n",
              "</style>\n",
              "<table border=\"1\" class=\"dataframe\">\n",
              "  <thead>\n",
              "    <tr style=\"text-align: right;\">\n",
              "      <th></th>\n",
              "      <th>precision</th>\n",
              "      <th>recall</th>\n",
              "      <th>f1-score</th>\n",
              "      <th>support</th>\n",
              "    </tr>\n",
              "  </thead>\n",
              "  <tbody>\n",
              "    <tr>\n",
              "      <th>0</th>\n",
              "      <td>0.907721</td>\n",
              "      <td>0.940671</td>\n",
              "      <td>0.923903</td>\n",
              "      <td>2562.000000</td>\n",
              "    </tr>\n",
              "    <tr>\n",
              "      <th>1</th>\n",
              "      <td>0.967905</td>\n",
              "      <td>0.949265</td>\n",
              "      <td>0.958495</td>\n",
              "      <td>4829.000000</td>\n",
              "    </tr>\n",
              "    <tr>\n",
              "      <th>accuracy</th>\n",
              "      <td>0.946286</td>\n",
              "      <td>0.946286</td>\n",
              "      <td>0.946286</td>\n",
              "      <td>0.946286</td>\n",
              "    </tr>\n",
              "    <tr>\n",
              "      <th>macro avg</th>\n",
              "      <td>0.937813</td>\n",
              "      <td>0.944968</td>\n",
              "      <td>0.941199</td>\n",
              "      <td>7391.000000</td>\n",
              "    </tr>\n",
              "    <tr>\n",
              "      <th>weighted avg</th>\n",
              "      <td>0.947043</td>\n",
              "      <td>0.946286</td>\n",
              "      <td>0.946504</td>\n",
              "      <td>7391.000000</td>\n",
              "    </tr>\n",
              "  </tbody>\n",
              "</table>\n",
              "</div>"
            ],
            "text/plain": [
              "              precision    recall  f1-score      support\n",
              "0              0.907721  0.940671  0.923903  2562.000000\n",
              "1              0.967905  0.949265  0.958495  4829.000000\n",
              "accuracy       0.946286  0.946286  0.946286     0.946286\n",
              "macro avg      0.937813  0.944968  0.941199  7391.000000\n",
              "weighted avg   0.947043  0.946286  0.946504  7391.000000"
            ]
          },
          "metadata": {
            "tags": []
          },
          "execution_count": 24
        }
      ]
    },
    {
      "cell_type": "code",
      "metadata": {
        "colab": {
          "base_uri": "https://localhost:8080/",
          "height": 368
        },
        "id": "zL91R3VlzAHj",
        "outputId": "f669dea1-68f2-4de1-8c16-5a6ddd413221"
      },
      "source": [
        "cm = confusion_matrix(Y.argmax(axis=1), prediction.argmax(axis=1))\n",
        "plot_confusion_matrix(cm, figsize=(5,5))"
      ],
      "execution_count": null,
      "outputs": [
        {
          "output_type": "execute_result",
          "data": {
            "text/plain": [
              "(<Figure size 360x360 with 1 Axes>,\n",
              " <matplotlib.axes._subplots.AxesSubplot at 0x7f186650cad0>)"
            ]
          },
          "metadata": {
            "tags": []
          },
          "execution_count": 25
        },
        {
          "output_type": "display_data",
          "data": {
            "image/png": "[encoded data removed]",
            "text/plain": [
              "<Figure size 360x360 with 1 Axes>"
            ]
          },
          "metadata": {
            "tags": [],
            "needs_background": "light"
          }
        }
      ]
    },
    {
      "cell_type": "code",
      "metadata": {
        "id": "xrhRosiDNypB"
      },
      "source": [
        "#model.save(f\"beto.h5\")"
      ],
      "execution_count": null,
      "outputs": []
    },
    {
      "cell_type": "markdown",
      "metadata": {
        "id": "okJVM5sDmxAm"
      },
      "source": [
        "## 6. Autoencoder"
      ]
    },
    {
      "cell_type": "code",
      "metadata": {
        "id": "KCqa57yPs7QF",
        "colab": {
          "base_uri": "https://localhost:8080/"
        },
        "outputId": "be12dd34-9007-4369-f795-48180682e598"
      },
      "source": [
        "# BERT layer\n",
        "input_word_ids = Input(shape=(max_len,), dtype=int32, name=\"input_word_ids\")\n",
        "input_mask = Input(shape=(max_len,), dtype=int32, name=\"input_mask\")\n",
        "segment_ids = Input(shape=(max_len,), dtype=int32, name=\"segment_ids\")\n",
        "\n",
        "bert_inputs = [input_word_ids, input_mask, segment_ids]\n",
        "\n",
        "bert_output = TFBertModel.from_pretrained(\n",
        "           \"dccuchile/bert-base-spanish-wwm-uncased\", trainable=False, name=f\"beto_module\"\n",
        ")(bert_inputs)[\"pooler_output\"]"
      ],
      "execution_count": null,
      "outputs": [
        {
          "output_type": "stream",
          "text": [
            "Some layers from the model checkpoint at dccuchile/bert-base-spanish-wwm-uncased were not used when initializing TFBertModel: ['mlm___cls']\n",
            "- This IS expected if you are initializing TFBertModel from the checkpoint of a model trained on another task or with another architecture (e.g. initializing a BertForSequenceClassification model from a BertForPreTraining model).\n",
            "- This IS NOT expected if you are initializing TFBertModel from the checkpoint of a model that you expect to be exactly identical (initializing a BertForSequenceClassification model from a BertForSequenceClassification model).\n",
            "Some layers of TFBertModel were not initialized from the model checkpoint at dccuchile/bert-base-spanish-wwm-uncased and are newly initialized: ['bert/pooler/dense/bias:0', 'bert/pooler/dense/kernel:0']\n",
            "You should probably TRAIN this model on a down-stream task to be able to use it for predictions and inference.\n"
          ],
          "name": "stderr"
        },
        {
          "output_type": "stream",
          "text": [
            "WARNING:tensorflow:The parameters `output_attentions`, `output_hidden_states` and `use_cache` cannot be updated when calling a model.They have to be set to True/False in the config object (i.e.: `config=XConfig.from_pretrained('name', output_attentions=True)`).\n",
            "WARNING:tensorflow:The parameter `return_dict` cannot be set in graph mode and will always be set to `True`.\n"
          ],
          "name": "stdout"
        }
      ]
    },
    {
      "cell_type": "code",
      "metadata": {
        "id": "58Xq47Ov_EdI"
      },
      "source": [
        "# Add custom layers\n",
        "encoder = Dense(256, activation='relu')(bert_output)\n",
        "encoder = Dense(500, activation='sigmoid', name='encoder_1')(encoder)\n",
        "encoder = Dense(500, activation='sigmoid', name='encoder_2')(encoder)\n",
        "encoder = Dense(2000, activation='sigmoid', name='encoder_3')(encoder)\n",
        "\n",
        "# hidden layer\n",
        "code = Dense(20, activation='sigmoid', name='encoder_hidden')(encoder)  # hidden layer, features are extracted from here\n",
        "\n",
        "decoder = Dense(2000, activation='sigmoid',  name='decoder_1')(code)\n",
        "decoder = Dense(500, activation='sigmoid',  name='decoder_2')(decoder)\n",
        "decoder = Dense(500, activation='sigmoid', name='decoder_3')(decoder)\n",
        "decoder = Dense(256, name='decoder_4')(decoder)"
      ],
      "execution_count": null,
      "outputs": []
    },
    {
      "cell_type": "code",
      "metadata": {
        "id": "tWJo1G2yMStQ"
      },
      "source": [
        "encoder = Model(inputs=bert_inputs, outputs=code, name='encoder')"
      ],
      "execution_count": null,
      "outputs": []
    },
    {
      "cell_type": "code",
      "metadata": {
        "colab": {
          "base_uri": "https://localhost:8080/"
        },
        "id": "EC84nRpdtUEv",
        "outputId": "2b1c6ba6-6be9-43af-fe7f-ce4f43cf6b2f"
      },
      "source": [
        "autoencoder_model = Model(inputs=bert_inputs, outputs=decoder)\n",
        "\n",
        "autoencoder_model.compile(Adam(lr=1e-5), loss='categorical_crossentropy', metrics=['MSE'])\n",
        "\n",
        "autoencoder_model.summary()"
      ],
      "execution_count": null,
      "outputs": [
        {
          "output_type": "stream",
          "text": [
            "Model: \"model_4\"\n",
            "__________________________________________________________________________________________________\n",
            "Layer (type)                    Output Shape         Param #     Connected to                     \n",
            "==================================================================================================\n",
            "input_word_ids (InputLayer)     [(None, 256)]        0                                            \n",
            "__________________________________________________________________________________________________\n",
            "input_mask (InputLayer)         [(None, 256)]        0                                            \n",
            "__________________________________________________________________________________________________\n",
            "segment_ids (InputLayer)        [(None, 256)]        0                                            \n",
            "__________________________________________________________________________________________________\n",
            "beto_module (TFBertModel)       TFBaseModelOutputWit 109850880   input_word_ids[0][0]             \n",
            "                                                                 input_mask[0][0]                 \n",
            "                                                                 segment_ids[0][0]                \n",
            "__________________________________________________________________________________________________\n",
            "dense_4 (Dense)                 (None, 256)          196864      beto_module[0][1]                \n",
            "__________________________________________________________________________________________________\n",
            "encoder_1 (Dense)               (None, 500)          128500      dense_4[0][0]                    \n",
            "__________________________________________________________________________________________________\n",
            "encoder_2 (Dense)               (None, 500)          250500      encoder_1[0][0]                  \n",
            "__________________________________________________________________________________________________\n",
            "encoder_3 (Dense)               (None, 2000)         1002000     encoder_2[0][0]                  \n",
            "__________________________________________________________________________________________________\n",
            "encoder_hidden (Dense)          (None, 20)           40020       encoder_3[0][0]                  \n",
            "__________________________________________________________________________________________________\n",
            "decoder_1 (Dense)               (None, 2000)         42000       encoder_hidden[0][0]             \n",
            "__________________________________________________________________________________________________\n",
            "decoder_2 (Dense)               (None, 500)          1000500     decoder_1[0][0]                  \n",
            "__________________________________________________________________________________________________\n",
            "decoder_3 (Dense)               (None, 500)          250500      decoder_2[0][0]                  \n",
            "__________________________________________________________________________________________________\n",
            "decoder_4 (Dense)               (None, 256)          128256      decoder_3[0][0]                  \n",
            "==================================================================================================\n",
            "Total params: 112,890,020\n",
            "Trainable params: 3,039,140\n",
            "Non-trainable params: 109,850,880\n",
            "__________________________________________________________________________________________________\n"
          ],
          "name": "stdout"
        }
      ]
    },
    {
      "cell_type": "code",
      "metadata": {
        "colab": {
          "base_uri": "https://localhost:8080/",
          "height": 1000
        },
        "id": "K4PMmSG65mkE",
        "outputId": "360a514c-5b8b-4980-fcba-a518f754b218"
      },
      "source": [
        "plot_model(autoencoder_model, to_file='autoencoder.png', show_shapes=True)"
      ],
      "execution_count": null,
      "outputs": [
        {
          "output_type": "execute_result",
          "data": {
            "image/png": "[encoded data removed]",
            "text/plain": [
              "<IPython.core.display.Image object>"
            ]
          },
          "metadata": {
            "tags": []
          },
          "execution_count": 49
        }
      ]
    },
    {
      "cell_type": "code",
      "metadata": {
        "colab": {
          "base_uri": "https://localhost:8080/",
          "height": 754
        },
        "id": "41xtnxblqNax",
        "outputId": "1a502367-bd99-468e-e2d3-2dfa386a32f1"
      },
      "source": [
        "plot_model(encoder, to_file='encoder.png', show_shapes=True)"
      ],
      "execution_count": null,
      "outputs": [
        {
          "output_type": "execute_result",
          "data": {
            "image/png": "[encoded data removed]",
            "text/plain": [
              "<IPython.core.display.Image object>"
            ]
          },
          "metadata": {
            "tags": []
          },
          "execution_count": 50
        }
      ]
    },
    {
      "cell_type": "code",
      "metadata": {
        "colab": {
          "base_uri": "https://localhost:8080/"
        },
        "id": "IAt5eCse8Dn9",
        "outputId": "ccad3e3e-0eef-425a-a33e-8c920a66a57e"
      },
      "source": [
        "history = autoencoder_model.fit(\n",
        "    X, X, \n",
        "    epochs=3,\n",
        "    batch_size=32,\n",
        "    verbose=1\n",
        ")"
      ],
      "execution_count": null,
      "outputs": [
        {
          "output_type": "stream",
          "text": [
            "Epoch 1/3\n",
            "WARNING:tensorflow:The parameters `output_attentions`, `output_hidden_states` and `use_cache` cannot be updated when calling a model.They have to be set to True/False in the config object (i.e.: `config=XConfig.from_pretrained('name', output_attentions=True)`).\n",
            "WARNING:tensorflow:The parameter `return_dict` cannot be set in graph mode and will always be set to `True`.\n",
            "WARNING:tensorflow:The parameters `output_attentions`, `output_hidden_states` and `use_cache` cannot be updated when calling a model.They have to be set to True/False in the config object (i.e.: `config=XConfig.from_pretrained('name', output_attentions=True)`).\n",
            "WARNING:tensorflow:The parameter `return_dict` cannot be set in graph mode and will always be set to `True`.\n",
            "231/231 [==============================] - 155s 618ms/step - loss: 892856.9375 - MSE: 7671911.0000\n",
            "Epoch 2/3\n",
            "231/231 [==============================] - 148s 641ms/step - loss: 889828.3125 - MSE: 7671915.0000\n",
            "Epoch 3/3\n",
            "231/231 [==============================] - 149s 646ms/step - loss: 881733.1875 - MSE: 7671920.5000\n"
          ],
          "name": "stdout"
        }
      ]
    },
    {
      "cell_type": "code",
      "metadata": {
        "colab": {
          "base_uri": "https://localhost:8080/",
          "height": 142
        },
        "id": "HWnZRDm5JTky",
        "outputId": "9cbccaa1-c99c-44c6-d5f4-45143b636aff"
      },
      "source": [
        "pd.DataFrame(history.history)"
      ],
      "execution_count": null,
      "outputs": [
        {
          "output_type": "execute_result",
          "data": {
            "text/html": [
              "<div>\n",
              "<style scoped>\n",
              "    .dataframe tbody tr th:only-of-type {\n",
              "        vertical-align: middle;\n",
              "    }\n",
              "\n",
              "    .dataframe tbody tr th {\n",
              "        vertical-align: top;\n",
              "    }\n",
              "\n",
              "    .dataframe thead th {\n",
              "        text-align: right;\n",
              "    }\n",
              "</style>\n",
              "<table border=\"1\" class=\"dataframe\">\n",
              "  <thead>\n",
              "    <tr style=\"text-align: right;\">\n",
              "      <th></th>\n",
              "      <th>loss</th>\n",
              "      <th>MSE</th>\n",
              "    </tr>\n",
              "  </thead>\n",
              "  <tbody>\n",
              "    <tr>\n",
              "      <th>0</th>\n",
              "      <td>892856.9375</td>\n",
              "      <td>7671911.0</td>\n",
              "    </tr>\n",
              "    <tr>\n",
              "      <th>1</th>\n",
              "      <td>889828.3125</td>\n",
              "      <td>7671915.0</td>\n",
              "    </tr>\n",
              "    <tr>\n",
              "      <th>2</th>\n",
              "      <td>881733.1875</td>\n",
              "      <td>7671920.5</td>\n",
              "    </tr>\n",
              "  </tbody>\n",
              "</table>\n",
              "</div>"
            ],
            "text/plain": [
              "          loss        MSE\n",
              "0  892856.9375  7671911.0\n",
              "1  889828.3125  7671915.0\n",
              "2  881733.1875  7671920.5"
            ]
          },
          "metadata": {
            "tags": []
          },
          "execution_count": 54
        }
      ]
    },
    {
      "cell_type": "markdown",
      "metadata": {
        "id": "LPzCxqSNLdlp"
      },
      "source": [
        "## Clustering - K-means"
      ]
    },
    {
      "cell_type": "code",
      "metadata": {
        "id": "WdVFQw-jLfO6"
      },
      "source": [
        "class ClusteringLayer(Layer):\n",
        "    \"\"\"\n",
        "    Clustering layer converts input sample (feature) to soft label, i.e. a vector that represents the probability of the\n",
        "    sample belonging to each cluster. The probability is calculated with student's t-distribution.\n",
        "\n",
        "    # Example\n",
        "    ```\n",
        "        model.add(ClusteringLayer(n_clusters=10))\n",
        "    ```\n",
        "    # Arguments\n",
        "        n_clusters: number of clusters.\n",
        "        weights: list of Numpy array with shape `(n_clusters, n_features)` witch represents the initial cluster centers.\n",
        "        alpha: degrees of freedom parameter in Student's t-distribution. Default to 1.0.\n",
        "    # Input shape\n",
        "        2D tensor with shape: `(n_samples, n_features)`.\n",
        "    # Output shape\n",
        "        2D tensor with shape: `(n_samples, n_clusters)`.\n",
        "    \"\"\"\n",
        "\n",
        "    def __init__(self, n_clusters, weights=None, alpha=1.0, **kwargs):\n",
        "        if 'input_shape' not in kwargs and 'input_dim' in kwargs:\n",
        "            kwargs['input_shape'] = (kwargs.pop('input_dim'),)\n",
        "        super(ClusteringLayer, self).__init__(**kwargs)\n",
        "        self.n_clusters = n_clusters\n",
        "        self.alpha = alpha\n",
        "        self.initial_weights = weights\n",
        "        self.input_spec = InputSpec(ndim=2)\n",
        "\n",
        "    def build(self, input_shape):\n",
        "        assert len(input_shape) == 2\n",
        "        input_dim = input_shape[1]\n",
        "        self.input_spec = InputSpec(dtype=K.floatx(), shape=(None, input_dim))\n",
        "        self.clusters = self.add_weight(shape=(self.n_clusters, input_dim,),\n",
        "                                 initializer='glorot_uniform',\n",
        "                                 name=self.name)\n",
        "\n",
        "        if self.initial_weights is not None:\n",
        "            self.set_weights(self.initial_weights)\n",
        "            del self.initial_weights\n",
        "        self.built = True\n",
        "\n",
        "    def call(self, inputs, **kwargs):\n",
        "        \"\"\" student t-distribution, as same as used in t-SNE algorithm.\n",
        "         Measure the similarity between embedded point z_i and centroid µ_j.\n",
        "                 q_ij = 1/(1+dist(x_i, µ_j)^2), then normalize it.\n",
        "                 q_ij can be interpreted as the probability of assigning sample i to cluster j.\n",
        "                 (i.e., a soft assignment)\n",
        "        Arguments:\n",
        "            inputs: the variable containing data, shape=(n_samples, n_features)\n",
        "        Return:\n",
        "            q: student's t-distribution, or soft labels for each sample. shape=(n_samples, n_clusters)\n",
        "        \"\"\"\n",
        "        q = 1.0 / (1.0 + (K.sum(K.square(K.expand_dims(inputs, axis=1) - self.clusters), axis=2) / self.alpha))\n",
        "        q **= (self.alpha + 1.0) / 2.0\n",
        "        q = K.transpose(K.transpose(q) / K.sum(q, axis=1)) # Make sure each sample's 10 values add up to 1.\n",
        "        return q\n",
        "\n",
        "    def compute_output_shape(self, input_shape):\n",
        "        assert input_shape and len(input_shape) == 2\n",
        "        return input_shape[0], self.n_clusters\n",
        "\n",
        "    def get_config(self):\n",
        "        config = {'n_clusters': self.n_clusters}\n",
        "        base_config = super(ClusteringLayer, self).get_config()\n",
        "        return dict(list(base_config.items()) + list(config.items()))"
      ],
      "execution_count": null,
      "outputs": []
    },
    {
      "cell_type": "code",
      "metadata": {
        "colab": {
          "base_uri": "https://localhost:8080/"
        },
        "id": "betyxjl8L87u",
        "outputId": "b9751976-0d1f-4156-e35f-743bc191b10c"
      },
      "source": [
        "n_clusters  = 2\n",
        "clustering_layer = ClusteringLayer(n_clusters, name='clustering')(encoder.output)\n",
        "model = Model(inputs=encoder.input, outputs=clustering_layer)\n",
        "\n",
        "model.compile(optimizer=SGD(0.01, 0.9), loss='kld')\n",
        "model.summary()"
      ],
      "execution_count": null,
      "outputs": [
        {
          "output_type": "stream",
          "text": [
            "Model: \"model_5\"\n",
            "__________________________________________________________________________________________________\n",
            "Layer (type)                    Output Shape         Param #     Connected to                     \n",
            "==================================================================================================\n",
            "input_word_ids (InputLayer)     [(None, 256)]        0                                            \n",
            "__________________________________________________________________________________________________\n",
            "input_mask (InputLayer)         [(None, 256)]        0                                            \n",
            "__________________________________________________________________________________________________\n",
            "segment_ids (InputLayer)        [(None, 256)]        0                                            \n",
            "__________________________________________________________________________________________________\n",
            "beto_module (TFBertModel)       TFBaseModelOutputWit 109850880   input_word_ids[0][0]             \n",
            "                                                                 input_mask[0][0]                 \n",
            "                                                                 segment_ids[0][0]                \n",
            "__________________________________________________________________________________________________\n",
            "dense_4 (Dense)                 (None, 256)          196864      beto_module[0][1]                \n",
            "__________________________________________________________________________________________________\n",
            "encoder_1 (Dense)               (None, 500)          128500      dense_4[0][0]                    \n",
            "__________________________________________________________________________________________________\n",
            "encoder_2 (Dense)               (None, 500)          250500      encoder_1[0][0]                  \n",
            "__________________________________________________________________________________________________\n",
            "encoder_3 (Dense)               (None, 2000)         1002000     encoder_2[0][0]                  \n",
            "__________________________________________________________________________________________________\n",
            "encoder_hidden (Dense)          (None, 20)           40020       encoder_3[0][0]                  \n",
            "__________________________________________________________________________________________________\n",
            "clustering (ClusteringLayer)    (None, 2)            40          encoder_hidden[0][0]             \n",
            "==================================================================================================\n",
            "Total params: 111,468,804\n",
            "Trainable params: 1,617,924\n",
            "Non-trainable params: 109,850,880\n",
            "__________________________________________________________________________________________________\n"
          ],
          "name": "stdout"
        }
      ]
    },
    {
      "cell_type": "code",
      "metadata": {
        "id": "7g1F0NJhRPpX",
        "colab": {
          "base_uri": "https://localhost:8080/"
        },
        "outputId": "9f610df2-79a5-4c33-d537-bead6fe13630"
      },
      "source": [
        "kmeans = KMeans(n_clusters=n_clusters, n_init=20)\n",
        "\n",
        "y_pred = kmeans.fit_predict(encoder.predict(X))"
      ],
      "execution_count": null,
      "outputs": [
        {
          "output_type": "stream",
          "text": [
            "WARNING:tensorflow:The parameters `output_attentions`, `output_hidden_states` and `use_cache` cannot be updated when calling a model.They have to be set to True/False in the config object (i.e.: `config=XConfig.from_pretrained('name', output_attentions=True)`).\n",
            "WARNING:tensorflow:The parameter `return_dict` cannot be set in graph mode and will always be set to `True`.\n"
          ],
          "name": "stdout"
        }
      ]
    },
    {
      "cell_type": "code",
      "metadata": {
        "id": "tH38OBuCUTN8"
      },
      "source": [
        "y_pred_last = np.copy(y_pred)"
      ],
      "execution_count": null,
      "outputs": []
    },
    {
      "cell_type": "code",
      "metadata": {
        "id": "iSw1E1OFUWBD"
      },
      "source": [
        "model.get_layer(name='clustering').set_weights([kmeans.cluster_centers_])"
      ],
      "execution_count": null,
      "outputs": []
    },
    {
      "cell_type": "code",
      "metadata": {
        "id": "IDi2MCa2XJiy"
      },
      "source": [
        "# computing an auxiliary target distribution\n",
        "def target_distribution(q):\n",
        "    weight = q ** 2 / q.sum(0)\n",
        "    return (weight.T / weight.sum(1)).T"
      ],
      "execution_count": null,
      "outputs": []
    },
    {
      "cell_type": "code",
      "metadata": {
        "id": "jFw0jofEXMZX"
      },
      "source": [
        "loss = 0\n",
        "index = 0\n",
        "maxiter = 1#8000\n",
        "update_interval = 1#140\n",
        "index_array = np.arange(X[0].shape[0])\n",
        "tol = 0.001 # tolerance threshold to stop training"
      ],
      "execution_count": null,
      "outputs": []
    },
    {
      "cell_type": "code",
      "metadata": {
        "id": "ha6rfStCfRmg"
      },
      "source": [
        "nmi = normalized_mutual_info_score\n",
        "ari = adjusted_rand_score\n",
        "\n",
        "def acc(y_true, y_pred):\n",
        "    \"\"\"\n",
        "    Calculate clustering accuracy. Require scikit-learn installed\n",
        "    # Arguments\n",
        "        y: true labels, numpy.array with shape `(n_samples,)`\n",
        "        y_pred: predicted labels, numpy.array with shape `(n_samples,)`\n",
        "    # Return\n",
        "        accuracy, in [0,1]\n",
        "    \"\"\"\n",
        "    y_true = y_true.astype(np.int64)\n",
        "    assert y_pred.size == y_true.size\n",
        "    D = max(y_pred.max(), y_true.max()) + 1\n",
        "    w = np.zeros((D, D), dtype=np.int64)\n",
        "    for i in range(y_pred.size):\n",
        "        w[y_pred[i], y_true[i]] += 1\n",
        "    \n",
        "    ind = linear_assignment(w.max() - w)\n",
        "    return sum([w[i, j] for i, j in ind]) * 1.0 / y_pred.size"
      ],
      "execution_count": null,
      "outputs": []
    },
    {
      "cell_type": "code",
      "metadata": {
        "id": "dqNSySKUXNRK"
      },
      "source": [
        "batch_size = 32\n",
        "\n",
        "for ite in range(int(maxiter)):\n",
        "    if ite % update_interval == 0:\n",
        "        q = model.predict(X, verbose=0)\n",
        "        p = target_distribution(q)  # update the auxiliary target distribution p\n",
        "\n",
        "        # evaluate the clustering performance\n",
        "        y_pred = q.argmax(1)\n",
        "        if Y is not None:\n",
        "            Y_2 = np.argmax(Y, axis=1)\n",
        "            acc1 = np.round(acc(Y_2, y_pred), 5)\n",
        "            nmi1 = np.round(nmi(Y_2, y_pred), 5)\n",
        "            ari1 = np.round(ari(Y_2, y_pred), 5)\n",
        "            loss = np.round(loss, 5)\n",
        "            print('Iter %d: acc = %.5f, nmi = %.5f, ari = %.5f' % (ite, acc1, nmi1, ari1), ' ; loss=', loss)\n",
        "\n",
        "        # check stop criterion - model convergence\n",
        "        delta_label = np.sum(y_pred != y_pred_last).astype(np.float32) / y_pred.shape[0]\n",
        "        y_pred_last = np.copy(y_pred)\n",
        "        if ite > 0 and delta_label < tol:\n",
        "            print('delta_label ', delta_label, '< tol ', tol)\n",
        "            print('Reached tolerance threshold. Stopping training.')\n",
        "            break\n",
        "    idx = index_array[index * batch_size: min((index+1) * batch_size, X[0].shape[0])]\n",
        "    #loss = model.train_on_batch(x=X[0][idx], y=p[idx])\n",
        "    index = index + 1 if (index + 1) * batch_size <= X[0].shape[0] else 0"
      ],
      "execution_count": null,
      "outputs": []
    },
    {
      "cell_type": "code",
      "metadata": {
        "id": "QVZeplS4X6hK",
        "colab": {
          "base_uri": "https://localhost:8080/"
        },
        "outputId": "245a2e58-2b55-472a-efbc-7ad373d3c06e"
      },
      "source": [
        "# Eval.\n",
        "q = model.predict(X, verbose=1)\n",
        "p = target_distribution(q)  # update the auxiliary target distribution p"
      ],
      "execution_count": null,
      "outputs": [
        {
          "output_type": "stream",
          "text": [
            "231/231 [==============================] - 129s 558ms/step\n"
          ],
          "name": "stdout"
        }
      ]
    },
    {
      "cell_type": "code",
      "metadata": {
        "colab": {
          "base_uri": "https://localhost:8080/"
        },
        "id": "WtCNfy6W8K36",
        "outputId": "14eb951f-2040-4741-a7a8-ce542aafadc8"
      },
      "source": [
        "# evaluate the clustering performance\n",
        "y_pred = q.argmax(1)\n",
        "if Y is not None:\n",
        "    acc1 = np.round(acc(np.argmax(Y, axis=1), y_pred), 5)\n",
        "    nmi1 = np.round(nmi(np.argmax(Y, axis=1), y_pred), 5)\n",
        "    ari1 = np.round(ari(np.argmax(Y, axis=1), y_pred), 5)\n",
        "    loss = np.round(loss, 5)\n",
        "    print('Acc = %.5f, nmi = %.5f, ari = %.5f' % (acc1, nmi1, ari1), ' ; loss=', loss)"
      ],
      "execution_count": null,
      "outputs": [
        {
          "output_type": "stream",
          "text": [
            "Acc = 0.69463, nmi = 0.11770, ari = 0.15115  ; loss= 0\n"
          ],
          "name": "stdout"
        }
      ]
    },
    {
      "cell_type": "code",
      "metadata": {
        "id": "lLBcY0CLX8YA",
        "colab": {
          "base_uri": "https://localhost:8080/",
          "height": 891
        },
        "outputId": "061f3fe6-632b-4b25-e1a7-9ea2c341de76"
      },
      "source": [
        "sns.set(font_scale=3)\n",
        "confusion_matrip = confusion_matrix(np.argmax(Y, axis=1), y_pred)\n",
        "\n",
        "plt.figure(figsize=(16, 14))\n",
        "sns.heatmap(confusion_matrip, annot=True, fmt=\"d\", annot_kws={\"size\": 2});\n",
        "plt.title(\"Confusion matrix\", fontsize=30)\n",
        "plt.ylabel('True label', fontsize=25)\n",
        "plt.xlabel('Clustering label', fontsize=25)\n",
        "plt.show()"
      ],
      "execution_count": null,
      "outputs": [
        {
          "output_type": "display_data",
          "data": {
            "image/png": "[encoded data removed]",
            "text/plain": [
              "<Figure size 1152x1008 with 2 Axes>"
            ]
          },
          "metadata": {
            "tags": []
          }
        }
      ]
    },
    {
      "cell_type": "markdown",
      "metadata": {
        "id": "ZG-KBWwtm7D0"
      },
      "source": [
        "## Ecuación Clustering"
      ]
    },
    {
      "cell_type": "code",
      "metadata": {
        "colab": {
          "base_uri": "https://localhost:8080/"
        },
        "id": "ve7K5Fiem7Z2",
        "outputId": "3dd88f3f-a53f-45e6-e417-c01135dcafeb"
      },
      "source": [
        "# inventemos unas probabilidades asignadas al cluster de 50 textos\n",
        "\n",
        "def softmax(x):\n",
        "  return np.exp(x)/np.sum(np.exp(x), axis=1, keepdims=True)\n",
        "\n",
        "import numpy as np\n",
        "k = 3\n",
        "m = 100\n",
        "temp = np.random.normal(size=(m,k))\n",
        "q = softmax(temp) ## q vendría en realidad de la función kmeans.predict\n",
        "q[:10]"
      ],
      "execution_count": null,
      "outputs": [
        {
          "output_type": "execute_result",
          "data": {
            "text/plain": [
              "array([[0.05565775, 0.32436901, 0.61997324],\n",
              "       [0.17359063, 0.07342226, 0.75298711],\n",
              "       [0.58327571, 0.03475428, 0.38197002],\n",
              "       [0.1909023 , 0.22807682, 0.58102088],\n",
              "       [0.17315685, 0.77581912, 0.05102402],\n",
              "       [0.1518572 , 0.52020852, 0.32793429],\n",
              "       [0.31829164, 0.34949363, 0.33221473],\n",
              "       [0.38388348, 0.44159813, 0.17451839],\n",
              "       [0.05295651, 0.53652771, 0.41051578],\n",
              "       [0.49792176, 0.13276651, 0.36931173]])"
            ]
          },
          "metadata": {
            "tags": []
          },
          "execution_count": 19
        }
      ]
    },
    {
      "cell_type": "code",
      "metadata": {
        "colab": {
          "base_uri": "https://localhost:8080/"
        },
        "id": "X196AtVpn4Wb",
        "outputId": "c742e2a2-4c14-4797-a047-7768ad047662"
      },
      "source": [
        "q_squared = q**2\n",
        "sum_q_clusters = np.sum(q, axis=0)\n",
        "temp_p = q_squared / sum_q_clusters\n",
        "p = temp_p / np.sum(temp_p, axis=1, keepdims=True)\n",
        "p[:10]"
      ],
      "execution_count": null,
      "outputs": [
        {
          "output_type": "execute_result",
          "data": {
            "text/plain": [
              "array([[0.00602962, 0.24406389, 0.74990649],\n",
              "       [0.0498173 , 0.01062109, 0.93956161],\n",
              "       [0.69730274, 0.00295037, 0.2997469 ],\n",
              "       [0.0834298 , 0.14192122, 0.77464898],\n",
              "       [0.03998289, 0.95653721, 0.0034799 ],\n",
              "       [0.05086561, 0.71136841, 0.23776598],\n",
              "       [0.28338028, 0.40717755, 0.30944217],\n",
              "       [0.35917005, 0.56642425, 0.0744057 ],\n",
              "       [0.00544769, 0.66641451, 0.32813779],\n",
              "       [0.61118871, 0.05178647, 0.33702482]])"
            ]
          },
          "metadata": {
            "tags": []
          },
          "execution_count": 20
        }
      ]
    },
    {
      "cell_type": "code",
      "metadata": {
        "id": "PblUx_EFpTkS"
      },
      "source": [
        ""
      ],
      "execution_count": null,
      "outputs": []
    }
  ]
}